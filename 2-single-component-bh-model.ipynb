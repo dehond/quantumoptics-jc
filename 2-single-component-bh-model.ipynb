{
 "cells": [
  {
   "cell_type": "markdown",
   "metadata": {},
   "source": [
    "## Single-component Bose-Hubbard model: Ground state properties"
   ]
  },
  {
   "cell_type": "code",
   "execution_count": 11,
   "metadata": {},
   "outputs": [
    {
     "data": {
      "text/plain": [
       "Plots.PyPlotBackend()"
      ]
     },
     "execution_count": 11,
     "metadata": {},
     "output_type": "execute_result"
    }
   ],
   "source": [
    "using QuantumOptics\n",
    "using Plots\n",
    "using Arpack\n",
    "using ArnoldiMethod\n",
    "using DelimitedFiles\n",
    "using LaTeXStrings\n",
    "using LinearAlgebra\n",
    "using Statistics\n",
    "pyplot()"
   ]
  },
  {
   "cell_type": "markdown",
   "metadata": {},
   "source": [
    "### Set up the basis\n",
    "We start by setting up the basis. We have `Nparticles` living on `Nsites`, and we use the QuantumOptics function `NLevelBasis()` to account for our sites. Each site is one level, which can be occupied by as many particles as we want (since we're dealing with bosons). For the basis size this is a little troublesome, since it leads to a large number of basis states. "
   ]
  },
  {
   "cell_type": "code",
   "execution_count": 53,
   "metadata": {},
   "outputs": [
    {
     "data": {
      "text/plain": [
       "ManyBody(onebodybasis=NLevel(N=6), states:462)"
      ]
     },
     "execution_count": 53,
     "metadata": {},
     "output_type": "execute_result"
    }
   ],
   "source": [
    "Nsites = 6                              # Actual number of physical sites is half this, we encode particle types at different sites\n",
    "Nparticles = Nsites                     # To define the rotated state we initially need double the number of particles\n",
    "a = NLevelBasis(Nsites)\n",
    "a_mb = ManyBodyBasis(a, bosonstates(a, Nparticles))"
   ]
  },
  {
   "cell_type": "markdown",
   "metadata": {},
   "source": [
    "The many-body basis is spanned by the different occupations on every site. We can inspect the occupation numbers:"
   ]
  },
  {
   "cell_type": "code",
   "execution_count": 54,
   "metadata": {},
   "outputs": [
    {
     "data": {
      "text/plain": [
       "4-element Array{Array{Int64,1},1}:\n",
       " [6, 0, 0, 0, 0, 0]\n",
       " [5, 1, 0, 0, 0, 0]\n",
       " [5, 0, 1, 0, 0, 0]\n",
       " [5, 0, 0, 1, 0, 0]"
      ]
     },
     "execution_count": 54,
     "metadata": {},
     "output_type": "execute_result"
    }
   ],
   "source": [
    "a_mb.occupations[1:4]"
   ]
  },
  {
   "cell_type": "markdown",
   "metadata": {},
   "source": [
    "### Set up the Hamiltonian"
   ]
  },
  {
   "cell_type": "markdown",
   "metadata": {},
   "source": [
    "The Hamiltonian contains two terms, a tunneling term, and an on-site interaction term, respectively. If we express all energies in units of the tunneling rate $t$ the only free parameter is the on-site interaction $U$:\n",
    "$$\n",
    "    \\mathcal{H} = -\\sum_{\\langle i,j \\rangle} \\hat{a}^\\dagger_i \\hat{a}_j + \\frac{U}{2} \\sum_i \\hat{n}_i \\left( \\hat{n}_i - 1 \\right)\n",
    "$$\n",
    "How do we convert this into a Hamiltonian we can solve numerically? In principle, we can define the creation and annihilation operators using the `create()` and `destroy()` functions QuantumOptics gives us, but constructing those involves the full many-body basis, while these are only single-particle operators. In some cases we found it numerically favorable to first define single-particle tunneling operators using the `transition()` function, which describes a transition from one level (i.e. site) to another. This single-particle operator can be converted to act on the many-body basis using the `manybodyoperator()` function.\n",
    "\n",
    "For adding the on-site term we just use the `number()` functions. Note that all of these operators are nothing but fancy matrices, packaged in an efficient way and tagged with some information such as which basis they act on. This prevents one from accidentally using a Hamiltonian matrix and state vector belonging to different bases."
   ]
  },
  {
   "cell_type": "code",
   "execution_count": 55,
   "metadata": {},
   "outputs": [],
   "source": [
    "single_tunnel = [transition(a, i, i + 1) for i in 1 : (Nsites - 1)]\n",
    "single_tunnel = [dagger.(single_tunnel); single_tunnel]\n",
    "total_tunnel_s = sum([manybodyoperator(a_mb, t) for t in single_tunnel]);\n",
    "onsite_interaction = sum( [ number(a_mb, i) * (number(a_mb, i) - identityoperator(a_mb)) for i in 1:Nsites ] );"
   ]
  },
  {
   "cell_type": "markdown",
   "metadata": {},
   "source": [
    "Define the Hamiltonian with all energies in units of $t$, the tunneling matrix element."
   ]
  },
  {
   "cell_type": "code",
   "execution_count": 56,
   "metadata": {},
   "outputs": [
    {
     "data": {
      "text/plain": [
       "H (generic function with 1 method)"
      ]
     },
     "execution_count": 56,
     "metadata": {},
     "output_type": "execute_result"
    }
   ],
   "source": [
    "H(U) = -total_tunnel_s + U/2 * onsite_interaction"
   ]
  },
  {
   "cell_type": "markdown",
   "metadata": {},
   "source": [
    "### Find the ground state"
   ]
  },
  {
   "cell_type": "markdown",
   "metadata": {},
   "source": [
    "To find the ground state we use a partial Schur decomposition, which is faster than the default eigensolver supplied by QuantumOptics."
   ]
  },
  {
   "cell_type": "code",
   "execution_count": 57,
   "metadata": {},
   "outputs": [
    {
     "data": {
      "text/plain": [
       "getGS (generic function with 1 method)"
      ]
     },
     "execution_count": 57,
     "metadata": {},
     "output_type": "execute_result"
    }
   ],
   "source": [
    "function getGS(U)\n",
    "    decomp, history = partialschur(H(U).data, nev=2, tol=1e-6, which=SR());\n",
    "    λ, ϕ = partialeigen(decomp)\n",
    "    gs = Ket(a_mb, ϕ[:, 1])\n",
    "end"
   ]
  },
  {
   "cell_type": "markdown",
   "metadata": {},
   "source": [
    "One hallmark of the Mott-insulating state is that the number fluctuations disappear as we increase the lattice depth. We can calculate these by evaluating the expectation values for the operators $\\hat{n_i}$ and $\\hat{n_i}^2$, and averaging them over all sites."
   ]
  },
  {
   "cell_type": "code",
   "execution_count": 66,
   "metadata": {},
   "outputs": [
    {
     "data": {
      "text/plain": [
       "Δn (generic function with 1 method)"
      ]
     },
     "execution_count": 66,
     "metadata": {},
     "output_type": "execute_result"
    }
   ],
   "source": [
    "Δn(ψ) = sqrt.( mean(real.( [expect(number(a_mb, i)^2, ψ) - expect(number(a_mb, i), ψ)^2 for i in 1:Nsites ] )) )"
   ]
  },
  {
   "cell_type": "code",
   "execution_count": 59,
   "metadata": {},
   "outputs": [
    {
     "data": {
      "image/png": "[encoded data removed]"
     },
     "execution_count": 59,
     "metadata": {},
     "output_type": "execute_result"
    }
   ],
   "source": [
    "us = 0:0.1:20\n",
    "dat = [Δn( getGS(u) ) for u in us];\n",
    "\n",
    "plot(us, dat,\n",
    "    label = \"test\",\n",
    "    linewidth = 2,\n",
    "    xlabel = L\"U/t\",\n",
    "    ylabel = L\"\\sqrt{\\langle n^2 \\rangle - \\langle n \\rangle^2}\",\n",
    "    xguidefont = font(15),\n",
    "    yguidefont = font(15),\n",
    "    tickfont = font(12),\n",
    "    leg = false)"
   ]
  },
  {
   "cell_type": "markdown",
   "metadata": {},
   "source": [
    "We can also look at the behavior on every site individually:"
   ]
  },
  {
   "cell_type": "code",
   "execution_count": 68,
   "metadata": {},
   "outputs": [
    {
     "data": {
      "text/plain": [
       "Δn_ps (generic function with 1 method)"
      ]
     },
     "execution_count": 68,
     "metadata": {},
     "output_type": "execute_result"
    }
   ],
   "source": [
    "Δn_ps(ψ) = [sqrt.( real( expect(number(a_mb, i)^2, ψ) - expect(number(a_mb, i), ψ)^2 ) ) for i in 1:Nsites ]"
   ]
  },
  {
   "cell_type": "code",
   "execution_count": 69,
   "metadata": {},
   "outputs": [],
   "source": [
    "us = 0:0.1:20\n",
    "dat = [Δn_ps( getGS(u) ) for u in us];"
   ]
  },
  {
   "cell_type": "code",
   "execution_count": 70,
   "metadata": {},
   "outputs": [
    {
     "data": {
      "image/png": "[encoded data removed]"
     },
     "execution_count": 70,
     "metadata": {},
     "output_type": "execute_result"
    }
   ],
   "source": [
    "heatmap(us, 1:Nsites, hcat(dat...),\n",
    "    xlabel = L\"U/t\",\n",
    "    ylabel = \"Site\",\n",
    "    xguidefont = font(15),\n",
    "    yguidefont = font(15),\n",
    "    tickfont = font(12))"
   ]
  },
  {
   "cell_type": "code",
   "execution_count": null,
   "metadata": {},
   "outputs": [],
   "source": []
  }
 ],
 "metadata": {
  "kernelspec": {
   "display_name": "Julia 1.4.2",
   "language": "julia",
   "name": "julia-1.4"
  },
  "language_info": {
   "file_extension": ".jl",
   "mimetype": "application/julia",
   "name": "julia",
   "version": "1.4.2"
  },
  "widgets": {
   "application/vnd.jupyter.widget-state+json": {
    "state": {},
    "version_major": 2,
    "version_minor": 0
   }
  }
 },
 "nbformat": 4,
 "nbformat_minor": 4
}
